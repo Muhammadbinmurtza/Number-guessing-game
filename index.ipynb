{
 "cells": [
  {
   "cell_type": "code",
   "execution_count": 2,
   "metadata": {},
   "outputs": [],
   "source": [
    "import matplotlib as np\n",
    "import matplotlib.pyplot as plt\n",
    "import numpy as np\n",
    "from nptyping import NDArray , Shape\n",
    "from typing import Any"
   ]
  },
  {
   "cell_type": "code",
   "execution_count": 3,
   "metadata": {},
   "outputs": [
    {
     "name": "stdout",
     "output_type": "stream",
     "text": [
      "Sorry, the correct number was [1]\n"
     ]
    }
   ],
   "source": [
    "guess_number : int = int(input(\"please enter the number between 1 to 10\"))\n",
    "the_number : NDArray[Shape[\"1\"],Any] = np.random.randint(1,11,1)\n",
    "if guess_number == the_number:\n",
    "    print(\"Congratulations, you guessed the correct number!\")\n",
    "else:\n",
    "    print(f\"Sorry, the correct number was {the_number}\")"
   ]
  }
 ],
 "metadata": {
  "kernelspec": {
   "display_name": "Python13",
   "language": "python",
   "name": "python3"
  },
  "language_info": {
   "codemirror_mode": {
    "name": "ipython",
    "version": 3
   },
   "file_extension": ".py",
   "mimetype": "text/x-python",
   "name": "python",
   "nbconvert_exporter": "python",
   "pygments_lexer": "ipython3",
   "version": "3.12.4"
  }
 },
 "nbformat": 4,
 "nbformat_minor": 2
}
